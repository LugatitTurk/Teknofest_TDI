{
  "cells": [
    {
      "cell_type": "code",
      "execution_count": null,
      "metadata": {
        "collapsed": true,
        "id": "CcvgmboAmCmV"
      },
      "outputs": [],
      "source": [
        "!pip install anvil-uplink #Buradaki pip installı yapıp ardından yeniden bağlantıyı başlatın 2.sefer başlattığınızda gereklilikler yüklendiğinden bu bloğu çalıştırmadan devam etmelisiniz "
      ]
    },
    {
      "cell_type": "code",
      "execution_count": null,
      "metadata": {
        "colab": {
          "base_uri": "https://localhost:8080/"
        },
        "id": "UskRRXphmDvZ",
        "outputId": "5861d47c-8702-44a3-fcc8-9de2d5fe5a3e"
      },
      "outputs": [
        {
          "name": "stdout",
          "output_type": "stream",
          "text": [
            "Connecting to wss://anvil.works/uplink\n",
            "Anvil websocket open\n",
            "Connected to \"Default Environment\" as SERVER\n"
          ]
        }
      ],
      "source": [
        "import anvil.server\n",
        "\n",
        "anvil.server.connect(\"server_5YNXKRULTK7Z6Z7M23NBGINW-OFYEENN2PR7A5ESP\")\n"
      ]
    },
    {
      "cell_type": "code",
      "execution_count": null,
      "metadata": {
        "colab": {
          "background_save": true,
          "base_uri": "https://localhost:8080/",
          "height": 313,
          "referenced_widgets": [
            "373cc2403ecc47a4a2fd19119cd52c9e",
            "af734c24b373470e8d39c3ac1833272d",
            "362e064b096645f28430e3145891bbe7",
            "477da6f21b1f441093fb02c7109d80c0",
            "2a12aee3f0f7499d9ea2774e403d7c35",
            "ef29c7ed45fc4558a17e19aa68ce8188"
          ]
        },
        "collapsed": true,
        "id": "OVbdFkAJHBUx",
        "outputId": "9cd09a86-1bc0-4d75-a2a4-6364f5349ac3"
      },
      "outputs": [
        {
          "name": "stderr",
          "output_type": "stream",
          "text": [
            "/usr/local/lib/python3.10/dist-packages/huggingface_hub/utils/_token.py:99: UserWarning: \n",
            "Error while fetching `HF_TOKEN` secret value from your vault: 'Requesting secret HF_TOKEN timed out. Secrets can only be fetched when running from the Colab UI.'.\n",
            "You are not authenticated with the Hugging Face Hub in this notebook.\n",
            "If the error persists, please let us know by opening an issue on GitHub (https://github.com/huggingface/huggingface_hub/issues/new).\n",
            "  warnings.warn(\n"
          ]
        },
        {
          "data": {
            "application/vnd.jupyter.widget-view+json": {
              "model_id": "373cc2403ecc47a4a2fd19119cd52c9e",
              "version_major": 2,
              "version_minor": 0
            },
            "text/plain": [
              "tokenizer_config.json:   0%|          | 0.00/1.25k [00:00<?, ?B/s]"
            ]
          },
          "metadata": {},
          "output_type": "display_data"
        },
        {
          "data": {
            "application/vnd.jupyter.widget-view+json": {
              "model_id": "af734c24b373470e8d39c3ac1833272d",
              "version_major": 2,
              "version_minor": 0
            },
            "text/plain": [
              "vocab.txt:   0%|          | 0.00/251k [00:00<?, ?B/s]"
            ]
          },
          "metadata": {},
          "output_type": "display_data"
        },
        {
          "data": {
            "application/vnd.jupyter.widget-view+json": {
              "model_id": "362e064b096645f28430e3145891bbe7",
              "version_major": 2,
              "version_minor": 0
            },
            "text/plain": [
              "tokenizer.json:   0%|          | 0.00/755k [00:00<?, ?B/s]"
            ]
          },
          "metadata": {},
          "output_type": "display_data"
        },
        {
          "data": {
            "application/vnd.jupyter.widget-view+json": {
              "model_id": "477da6f21b1f441093fb02c7109d80c0",
              "version_major": 2,
              "version_minor": 0
            },
            "text/plain": [
              "special_tokens_map.json:   0%|          | 0.00/125 [00:00<?, ?B/s]"
            ]
          },
          "metadata": {},
          "output_type": "display_data"
        },
        {
          "data": {
            "application/vnd.jupyter.widget-view+json": {
              "model_id": "2a12aee3f0f7499d9ea2774e403d7c35",
              "version_major": 2,
              "version_minor": 0
            },
            "text/plain": [
              "config.json:   0%|          | 0.00/1.25k [00:00<?, ?B/s]"
            ]
          },
          "metadata": {},
          "output_type": "display_data"
        },
        {
          "data": {
            "application/vnd.jupyter.widget-view+json": {
              "model_id": "ef29c7ed45fc4558a17e19aa68ce8188",
              "version_major": 2,
              "version_minor": 0
            },
            "text/plain": [
              "model.safetensors:   0%|          | 0.00/443M [00:00<?, ?B/s]"
            ]
          },
          "metadata": {},
          "output_type": "display_data"
        }
      ],
      "source": [
        "from transformers import AutoTokenizer, AutoModelForSequenceClassification,pipeline\n",
        "\n",
        "tokenizer = AutoTokenizer.from_pretrained(\"LugatitTurk/LugatitBert\")\n",
        "model = AutoModelForSequenceClassification.from_pretrained(\"LugatitTurk/LugatitBert\")\n",
        "\n",
        "nlp = pipeline(\"text-classification\", model=model, tokenizer=tokenizer)"
      ]
    },
    {
      "cell_type": "code",
      "execution_count": null,
      "metadata": {
        "colab": {
          "background_save": true,
          "base_uri": "https://localhost:8080/",
          "height": 209,
          "referenced_widgets": [
            "f4e40080d9ee4db28b087ed28c349e0b",
            "387b56b13411458bbd2b5f6268c015f4",
            "b0434c21d380409fbf08320c97e592b7",
            "155a9a5a096b4711a71ed85f0aa9d20d",
            "8ff1987358904c24b383be48f563bd24",
            "1c8847b915724a6abcabd505484db38a"
          ]
        },
        "collapsed": true,
        "id": "nR28p6-Rzy9e",
        "outputId": "93068452-e5cd-4881-e1af-3a7b0f34329b"
      },
      "outputs": [
        {
          "data": {
            "application/vnd.jupyter.widget-view+json": {
              "model_id": "f4e40080d9ee4db28b087ed28c349e0b",
              "version_major": 2,
              "version_minor": 0
            },
            "text/plain": [
              "tokenizer_config.json:   0%|          | 0.00/1.25k [00:00<?, ?B/s]"
            ]
          },
          "metadata": {},
          "output_type": "display_data"
        },
        {
          "data": {
            "application/vnd.jupyter.widget-view+json": {
              "model_id": "387b56b13411458bbd2b5f6268c015f4",
              "version_major": 2,
              "version_minor": 0
            },
            "text/plain": [
              "vocab.txt:   0%|          | 0.00/251k [00:00<?, ?B/s]"
            ]
          },
          "metadata": {},
          "output_type": "display_data"
        },
        {
          "data": {
            "application/vnd.jupyter.widget-view+json": {
              "model_id": "b0434c21d380409fbf08320c97e592b7",
              "version_major": 2,
              "version_minor": 0
            },
            "text/plain": [
              "tokenizer.json:   0%|          | 0.00/755k [00:00<?, ?B/s]"
            ]
          },
          "metadata": {},
          "output_type": "display_data"
        },
        {
          "data": {
            "application/vnd.jupyter.widget-view+json": {
              "model_id": "155a9a5a096b4711a71ed85f0aa9d20d",
              "version_major": 2,
              "version_minor": 0
            },
            "text/plain": [
              "special_tokens_map.json:   0%|          | 0.00/125 [00:00<?, ?B/s]"
            ]
          },
          "metadata": {},
          "output_type": "display_data"
        },
        {
          "data": {
            "application/vnd.jupyter.widget-view+json": {
              "model_id": "8ff1987358904c24b383be48f563bd24",
              "version_major": 2,
              "version_minor": 0
            },
            "text/plain": [
              "config.json:   0%|          | 0.00/1.25k [00:00<?, ?B/s]"
            ]
          },
          "metadata": {},
          "output_type": "display_data"
        },
        {
          "data": {
            "application/vnd.jupyter.widget-view+json": {
              "model_id": "1c8847b915724a6abcabd505484db38a",
              "version_major": 2,
              "version_minor": 0
            },
            "text/plain": [
              "model.safetensors:   0%|          | 0.00/443M [00:00<?, ?B/s]"
            ]
          },
          "metadata": {},
          "output_type": "display_data"
        }
      ],
      "source": [
        "\n",
        "\n",
        "tokenizer2 = AutoTokenizer.from_pretrained(\"LugatitTurk/LugatitHaberler\")\n",
        "model2 = AutoModelForSequenceClassification.from_pretrained(\"LugatitTurk/LugatitHaberler\")\n",
        "\n",
        "\n",
        "nlp2 = pipeline(\"text-classification\", model=model2, tokenizer=tokenizer2)\n",
        "\n"
      ]
    },
    {
      "cell_type": "code",
      "execution_count": null,
      "metadata": {
        "colab": {
          "background_save": true
        },
        "id": "euwP3wAxCvsm"
      },
      "outputs": [],
      "source": [
        "import torch\n",
        "import torch.nn.functional as F"
      ]
    },
    {
      "cell_type": "code",
      "execution_count": null,
      "metadata": {
        "id": "I5nlXPFtI-ym"
      },
      "outputs": [],
      "source": [
        "#  'LABEL_0': 'dunya ',\n",
        "#  'LABEL_1': 'ekonomi ',\n",
        "#  'LABEL_2': 'kultur ',\n",
        "#  'LABEL_3': 'saglik ',\n",
        "#  'LABEL_4': 'siyaset ',\n",
        "#  'LABEL_5': 'spor ',\n",
        "#  'LABEL_6': 'diğer '\n",
        "#HABER KISMI\n",
        "\n",
        "#'LABEL_0': Diğer\n",
        "#'LABEL_1': Saldırgan/Zorbalık\n",
        "#'LABEL_2': Yönlendirici Şiddet"
      ]
    },
    {
      "cell_type": "code",
      "execution_count": null,
      "metadata": {
        "colab": {
          "background_save": true
        },
        "id": "zOvVUt0TJt_g"
      },
      "outputs": [],
      "source": [
        "@anvil.server.callable\n",
        "def predict_tweet(metin):\n",
        "\n",
        "  inputs = tokenizer(metin, return_tensors=\"pt\")\n",
        "  outputs = model(**inputs)\n",
        "  first_three_probs = outputs[0][0][:3]\n",
        "  probabilities = F.softmax(first_three_probs, dim=0)\n",
        "  percentages = probabilities * 100\n",
        "  result = percentages.detach().numpy()\n",
        "\n",
        "  if( result[0] < result[2] and result[1] < result[2] ):\n",
        "    inputs = tokenizer2(metin, return_tensors=\"pt\")\n",
        "    outputs = model2(**inputs)\n",
        "    first_three_probs = outputs[0][0]\n",
        "    probabilities = F.softmax(first_three_probs, dim=0)\n",
        "    percentages = probabilities * 100\n",
        "    result2 = percentages.detach().numpy()\n",
        "    return [result,result2]\n",
        "  else :\n",
        "     return result\n"
      ]
    },
    {
      "cell_type": "code",
      "execution_count": null,
      "metadata": {
        "id": "m3orlK-8226O"
      },
      "outputs": [],
      "source": [
        "import pandas as pd\n",
        "import io\n",
        "\n",
        "@anvil.server.callable\n",
        "def process_uploaded_file(file):\n",
        "  byteStream = file.get_bytes()\n",
        "  excel_stream = io.BytesIO(byteStream)\n",
        "  df = pd.read_excel(excel_stream)\n",
        "  num1 = 0\n",
        "  num2 = 0\n",
        "  num3 = 0\n",
        "  haber1Kategori3 = 0\n",
        "  haber2Kategori3 = 0\n",
        "  haber3Kategori3 = 0\n",
        "  haber4Kategori3 = 0\n",
        "  haber5Kategori3 = 0\n",
        "  haber6Kategori3 = 0\n",
        "  haber7Kategori3 = 0\n",
        "  for i in range (len(df)):\n",
        "    resultObject = nlp(df['Tweet'][i])\n",
        "    if(str(resultObject[0]['label']) == \"LABEL_0\"):\n",
        "      num1  = num1 + 1;\n",
        "    elif(str(resultObject[0]['label']) == \"LABEL_1\"):\n",
        "      num2  = num2 + 1;\n",
        "    elif(str(resultObject[0]['label']) == \"LABEL_2\"):\n",
        "      num3  = num3 + 1;\n",
        "\n",
        "  for i in range (len(df)):\n",
        "    resultObject = nlp2(df['Tweet'][i])\n",
        "    resultObjectKategori = nlp(df['Tweet'][i])\n",
        "    if(str(resultObject[0]['label']) == \"LABEL_0\" and (str(resultObjectKategori[0]['label']) == \"LABEL_2\") ):\n",
        "      haber1Kategori3  = haber1Kategori3 + 1;\n",
        "    elif(str(resultObject[0]['label']) == \"LABEL_1\" and (str(resultObjectKategori[0]['label']) == \"LABEL_2\") ):\n",
        "      haber2Kategori3  = haber2Kategori3 + 1;\n",
        "    elif(str(resultObject[0]['label']) == \"LABEL_2\" and (str(resultObjectKategori[0]['label']) == \"LABEL_2\")):\n",
        "      haber3Kategori3  = haber3Kategori3 + 1;\n",
        "    elif(str(resultObject[0]['label']) == \"LABEL_3\" and (str(resultObjectKategori[0]['label']) == \"LABEL_2\") ):\n",
        "      haber4Kategori3  = haber4Kategori3 + 1;\n",
        "    elif(str(resultObject[0]['label']) == \"LABEL_4\" and (str(resultObjectKategori[0]['label']) == \"LABEL_2\")):\n",
        "      haber5Kategori3  = haber5Kategori3 + 1;\n",
        "    elif(str(resultObject[0]['label']) == \"LABEL_5\" and (str(resultObjectKategori[0]['label']) == \"LABEL_2\")):\n",
        "      haber6Kategori3  = haber6Kategori3 + 1;\n",
        "    elif(str(resultObject[0]['label']) == \"LABEL_6\" and (str(resultObjectKategori[0]['label']) == \"LABEL_2\")):\n",
        "      haber7Kategori3  = haber7Kategori3 + 1;\n",
        "\n",
        "\n",
        "  return [[num1,num2,num3],[haber1Kategori3,haber2Kategori3,haber3Kategori3,haber4Kategori3,haber5Kategori3,haber6Kategori3,haber7Kategori3]]"
      ]
    },
    {
      "cell_type": "code",
      "execution_count": null,
      "metadata": {
        "id": "rXddZ5ZA6lUi"
      },
      "outputs": [],
      "source": [
        "#Buradaki kodların metod ismiyle anvilden gerektiği zaman çağrı yapılmaktadır. Burada upload modülünde dikkat edilmesi gereken huss koddan anlaşılacağı üzere \n",
        "#Tweet sütunu oluşturup bunun altına tweet metinlerini hücre hücre eklemelisiniz.\n"
      ]
    }
  ],
  "metadata": {
    "colab": {
      "provenance": []
    },
    "kernelspec": {
      "display_name": "Python 3",
      "name": "python3"
    },
    "language_info": {
      "name": "python"
    },
    "widgets": {
      "application/vnd.jupyter.widget-state+json": {}
    }
  },
  "nbformat": 4,
  "nbformat_minor": 0
}
