{
  "cells": [
    {
      "cell_type": "code",
      "source": [
        "pip install simpletransformers\n"
      ],
      "metadata": {
        "id": "V6gQBJ0Hylbu",
        "collapsed": true
      },
      "execution_count": null,
      "outputs": []
    },
    {
      "cell_type": "code",
      "source": [
        "from simpletransformers.classification import ClassificationModel, ClassificationArgs\n",
        "import torch\n",
        "import pandas as pd\n",
        "import sklearn\n",
        "\n",
        "cuda_available = torch.cuda.is_available()\n",
        "\n",
        "model_args = ClassificationArgs(\n",
        "    use_early_stopping=True,\n",
        "    early_stopping_delta=0.01,\n",
        "    early_stopping_metric=\"mcc\",\n",
        "    early_stopping_metric_minimize=False,\n",
        "    early_stopping_patience=3,\n",
        "    evaluate_during_training=True,\n",
        "    evaluate_during_training_steps=500,\n",
        "    fp16=False,\n",
        "    num_train_epochs=5,\n",
        "    overwrite_output_dir=True,\n",
        "    learning_rate=2e-5,\n",
        "    warmup_ratio=0.1,\n",
        "    max_seq_length=512,\n",
        "    adam_epsilon=1e-8,\n",
        "    weight_decay=0.1,\n",
        "    gradient_accumulation_steps=1,\n",
        "    train_batch_size=16,\n",
        "    eval_batch_size=16,\n",
        "    reprocess_input_data=True,\n",
        "    evaluate_during_training_verbose=True,\n",
        "    save_eval_checkpoints=False,\n",
        "    save_steps=-1,\n",
        ")\n",
        "model_args.output_dir = 'outputs/'\n",
        "model_args.best_model_dir = 'outputs/best_model/'\n",
        "\n",
        "model = ClassificationModel(\n",
        "    \"model_ismi\",\n",
        "    \"model_konumu/HuggingFace repository\",\n",
        "    use_cuda=cuda_available,\n",
        "    args=model_args,\n",
        "    num_labels=3,\n",
        "    ignore_mismatched_sizes=True\n",
        ")\n",
        "\n",
        "model.train_model(train_df, eval_df=eval_df, acc=sklearn.metrics.accuracy_score)\n",
        "\n",
        "model.save_model()\n",
        "\n"
      ],
      "metadata": {
        "id": "fukyY1av3ttP",
        "collapsed": true
      },
      "execution_count": null,
      "outputs": []
    }
  ],
  "metadata": {
    "colab": {
      "provenance": [],
      "gpuType": "T4"
    },
    "kernelspec": {
      "display_name": "Python 3",
      "name": "python3"
    },
    "language_info": {
      "name": "python"
    },
    "accelerator": "GPU"
  },
  "nbformat": 4,
  "nbformat_minor": 0
}